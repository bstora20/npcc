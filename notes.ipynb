{
 "cells": [
  {
   "cell_type": "markdown",
   "metadata": {},
   "source": [
    "# GPU Coding"
   ]
  },
  {
   "cell_type": "markdown",
   "metadata": {},
   "source": [
    "## Keywords\n",
    "* __global__ - keyword marks GPU kernal\n",
    "* dim3 blocks, threads\n",
    "    * 1d, 2d, or 3d\n",
    "* <<<...>>> triple chevron syntax\n",
    "    * Launches kernal asynchronously\n",
    "        * returns immediatly\n",
    "    * Optional shmem:P dynanmic shared memory, typically set 0\n",
    "    * Optional stream\n",
    "* cuda.getLastError\n",
    "* Compile with nvcc \n",
    "    * Mostly the same flags as GCC\n",
    "    * Files are .cu\n"
   ]
  },
  {
   "cell_type": "markdown",
   "metadata": {},
   "source": []
  }
 ],
 "metadata": {
  "language_info": {
   "name": "python"
  }
 },
 "nbformat": 4,
 "nbformat_minor": 2
}
