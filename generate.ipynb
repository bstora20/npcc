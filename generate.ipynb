{
 "cells": [
  {
   "cell_type": "code",
   "execution_count": 13,
   "metadata": {},
   "outputs": [],
   "source": [
    "import random\n",
    "\n",
    "def generate_random_series():\n",
    "    with open(\"file.txt\", \"w\") as file:\n",
    "        for i in range(36):\n",
    "            series = \"\"\n",
    "            while len(series) < 1000:\n",
    "                series+=(str(random.randint(0, 1)))\n",
    "            \n",
    "            # Add 100 zeros at the end\n",
    "            for i in range(24):\n",
    "                series+='0'\n",
    "            \n",
    "            file.write(series+\"\\n\")\n",
    "\n",
    "series = generate_random_series()\n",
    "\n",
    "\n"
   ]
  },
  {
   "cell_type": "code",
   "execution_count": null,
   "metadata": {},
   "outputs": [],
   "source": []
  }
 ],
 "metadata": {
  "kernelspec": {
   "display_name": "Python 3",
   "language": "python",
   "name": "python3"
  },
  "language_info": {
   "codemirror_mode": {
    "name": "ipython",
    "version": 3
   },
   "file_extension": ".py",
   "mimetype": "text/x-python",
   "name": "python",
   "nbconvert_exporter": "python",
   "pygments_lexer": "ipython3",
   "version": "3.11.5"
  }
 },
 "nbformat": 4,
 "nbformat_minor": 2
}
